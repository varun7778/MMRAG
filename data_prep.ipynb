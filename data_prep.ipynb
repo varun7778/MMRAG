{
 "cells": [
  {
   "cell_type": "markdown",
   "id": "193face1-334a-43a0-874b-b2f8048ca963",
   "metadata": {},
   "source": [
    "# Data Prep\n",
    "\n",
    "Code authored by: Shaw Talebi \n",
    "\n",
    "[Blog link](https://medium.com/towards-data-science/multimodal-rag-process-any-file-type-with-ai-e6921342c903) \n",
    "| [Video link](https://youtu.be/Y7pNmocrmi8)"
   ]
  },
  {
   "cell_type": "markdown",
   "id": "cb3b98ec-bbd6-4f28-afaf-5a30616a51f0",
   "metadata": {},
   "source": [
    "### imports"
   ]
  },
  {
   "cell_type": "code",
   "execution_count": null,
   "id": "6901a467-4d59-4dbe-9e15-47bbec842b99",
   "metadata": {},
   "outputs": [],
   "source": [
    "from bs4 import BeautifulSoup\n",
    "import os\n",
    "from utility_functions import *\n",
    "\n",
    "from PIL import Image\n",
    "from transformers import CLIPProcessor, CLIPModel\n",
    "\n",
    "from torch import cat, save"
   ]
  },
  {
   "cell_type": "markdown",
   "id": "98fb3755-817c-484f-8227-df968b5ad909",
   "metadata": {},
   "source": [
    "### Extract text and images"
   ]
  },
  {
   "cell_type": "code",
   "execution_count": 2,
   "id": "f50eb0aa",
   "metadata": {},
   "outputs": [],
   "source": [
    "\n",
    "def parse_html_images(html_content):\n",
    "    \"\"\"\n",
    "    Parse HTML content and extract images with their captions.\n",
    "    \n",
    "    Args:\n",
    "        html_content (str): Raw HTML content to parse\n",
    "        \n",
    "    Returns:\n",
    "        list: List of dictionaries containing images and their metadata\n",
    "    \"\"\"\n",
    "    # Parse HTML\n",
    "    soup = BeautifulSoup(html_content, 'html.parser')\n",
    "    \n",
    "    # Get article title\n",
    "    article_title = soup.find('title').get_text().strip() if soup.find('title') else \"Untitled\"\n",
    "    \n",
    "    # Initialize variables\n",
    "    structured_content = []\n",
    "    current_section = \"Main\"  # Default section if no headers found\n",
    "    \n",
    "    # Find all headers and images\n",
    "    content_elements = soup.find_all(['h1', 'h2', 'h3', 'img', 'figure'])\n",
    "    \n",
    "    for element in content_elements:\n",
    "        if element.name in ['h1', 'h2', 'h3']:\n",
    "            current_section = element.get_text().strip()\n",
    "        elif element.name == 'img':\n",
    "            # Get image path\n",
    "            image_url = element.get('src', '')\n",
    "            \n",
    "            if image_url:  # Only proceed if there's an actual image URL\n",
    "                # Download the image\n",
    "                response = requests.get(image_url)\n",
    "                if response.status_code == 200:\n",
    "                    # Create images directory if it doesn't exist\n",
    "                    os.makedirs('images', exist_ok=True)\n",
    "                    \n",
    "                    # Extract image filename from URL\n",
    "                    image_filename = os.path.basename(image_url)\n",
    "                    if \".\" not in image_filename:\n",
    "                        image_filename = f\"{image_filename}.jpg\"\n",
    "                    \n",
    "                    # Define the local file path\n",
    "                    image_filename = image_filename.replace('*', '_')\n",
    "                    local_image_path = os.path.join('images', image_filename)\n",
    "\n",
    "                    print(local_image_path)\n",
    "                    \n",
    "                    # Save the image to the local file path\n",
    "                    with open(local_image_path, 'wb') as f:\n",
    "                        f.write(response.content)\n",
    "                    \n",
    "                    # Store the local file path in the dictionary\n",
    "                    image_path = local_image_path\n",
    "                else:\n",
    "                    image_path = ''\n",
    "            \n",
    "            # Try to get caption from alt text or figure caption\n",
    "            caption = element.get('alt', '')\n",
    "            if not caption and element.parent.name == 'figure':\n",
    "                figcaption = element.parent.find('figcaption')\n",
    "                if figcaption:\n",
    "                    caption = figcaption.get_text().strip()\n",
    "            \n",
    "            if image_path:  # Only add if there's an actual image path\n",
    "                structured_content.append({\n",
    "                    'article_title': article_title,\n",
    "                    'section': current_section,\n",
    "                    'image_path': image_path,\n",
    "                    'caption': caption or \"No caption available\"\n",
    "                })\n",
    "    \n",
    "    return structured_content\n"
   ]
  },
  {
   "cell_type": "code",
   "execution_count": 3,
   "id": "83c632f0",
   "metadata": {},
   "outputs": [],
   "source": [
    "\n",
    "def parse_html_content(html_content):\n",
    "    \"\"\"\n",
    "    Parse HTML content and extract structured content with sections and paragraphs.\n",
    "    \n",
    "    Args:\n",
    "        html_content (str): Raw HTML content to parse\n",
    "        \n",
    "    Returns:\n",
    "        list: List of dictionaries containing structured content\n",
    "    \"\"\"\n",
    "    # Parse HTML\n",
    "    soup = BeautifulSoup(html_content, 'html.parser')\n",
    "    \n",
    "    # Get article title\n",
    "    article_title = soup.find('title').get_text().strip() if soup.find('title') else \"Untitled\"\n",
    "    \n",
    "    # Initialize variables\n",
    "    structured_content = []\n",
    "    current_section = \"Main\"  # Default section if no headers found\n",
    "    \n",
    "    # Find all headers and text content\n",
    "    content_elements = soup.find_all(['h1', 'h2', 'h3', 'p', 'ul', 'ol'])\n",
    "    \n",
    "    for element in content_elements:\n",
    "        if element.name in ['h1', 'h2', 'h3']:\n",
    "            current_section = element.get_text().strip()\n",
    "        elif element.name in ['p', 'ul', 'ol']:\n",
    "            text = element.get_text().strip()\n",
    "            # Only add non-empty content that's at least 30 characters long\n",
    "            if text and len(text) >= 30:\n",
    "                structured_content.append({\n",
    "                    'article_title': article_title,\n",
    "                    'section': current_section,\n",
    "                    'text': text\n",
    "                })\n",
    "    \n",
    "    return structured_content\n"
   ]
  },
  {
   "cell_type": "code",
   "execution_count": 4,
   "id": "ee948ec1-cbe1-453b-b4e2-9bdbc149795b",
   "metadata": {},
   "outputs": [
    {
     "name": "stdout",
     "output_type": "stream",
     "text": [
      "images\\0_YE-Q-OuWnrgrUrQw.jpg\n",
      "images\\1_yvfu8VAp1UgCw4SVvUe77Q.png\n",
      "images\\1_Nwc-ZhRFKH17LWWmsNhbdA.png\n",
      "images\\1_pyqGh5Cbrk_EMlPYtrfrQw.png\n",
      "images\\1_lvX8Mut8SQ1vDhsaewLQ_g.jpeg\n",
      "images\\1_IqUoZEX2CYOsX6oFIVeuIw.jpeg\n",
      "images\\1_PRSGngwjIVW01cLHK41lNg.jpeg\n",
      "images\\1_a6BF-kEeo8rd7OW2a3JYGA.png\n",
      "images\\1_jpmC6Kx7DxVeikEr15vooA.png\n",
      "images\\1_5d3HBNjNIXLy0oMIvJjxWw.png\n",
      "images\\1_AGHBVjzwjXapJSe4aUPrjg.png\n",
      "images\\1_2X1aT8fzFsgbqn23zXmmAA.png\n",
      "images\\1_Nzo536sqahqm1Q24Ms2vmA.png\n",
      "images\\1_4wnqr5p_7N3QD5EkXIQeew.png\n",
      "images\\1_tIY3_ONQQT_cracAPWm8NQ.png\n",
      "images\\1_4wnqr5p_7N3QD5EkXIQeew.png\n",
      "images\\1_Nzo536sqahqm1Q24Ms2vmA.png\n"
     ]
    }
   ],
   "source": [
    "# Get all HTML files from raw directory\n",
    "filename_list = [\"raw/\"+f for f in os.listdir('raw')]\n",
    "\n",
    "text_content_list = []\n",
    "image_content_list = []\n",
    "for filename in filename_list:\n",
    "\n",
    "    with open(filename, 'r', encoding='utf-8') as file:\n",
    "        html_content = file.read()\n",
    "\n",
    "    text_content_list.extend(parse_html_content(html_content))\n",
    "    image_content_list.extend(parse_html_images(html_content))"
   ]
  },
  {
   "cell_type": "code",
   "execution_count": 5,
   "id": "ccaf6195-7026-4348-b05a-102be2ebbb8f",
   "metadata": {},
   "outputs": [
    {
     "name": "stdout",
     "output_type": "stream",
     "text": [
      "86\n",
      "17\n"
     ]
    }
   ],
   "source": [
    "print(len(text_content_list))\n",
    "print(len(image_content_list))"
   ]
  },
  {
   "cell_type": "code",
   "execution_count": 6,
   "id": "d3b6eff4-fa47-4a35-822e-bc125c197f5e",
   "metadata": {},
   "outputs": [],
   "source": [
    "text_list = []\n",
    "for content in text_content_list:\n",
    "    # concatenate title and section header\n",
    "    section = content['section'] + \": \"\n",
    "    # append text from paragraph to fill CLIP's 256 sequence limit\n",
    "    text = section + content['text'][:256-len(section)]\n",
    "    \n",
    "    text_list.append(text)\n",
    "\n",
    "image_list = []\n",
    "for content in image_content_list:\n",
    "    image_list.append(Image.open(content['image_path']))"
   ]
  },
  {
   "cell_type": "code",
   "execution_count": 7,
   "id": "48ecd598-3fb0-4fc2-a0a7-be334bb3f89e",
   "metadata": {},
   "outputs": [
    {
     "name": "stdout",
     "output_type": "stream",
     "text": [
      "86\n",
      "17\n"
     ]
    }
   ],
   "source": [
    "print(len(text_list))\n",
    "print(len(image_list))"
   ]
  },
  {
   "cell_type": "markdown",
   "id": "e5f8710b-63a9-464a-b13e-f19be08669ea",
   "metadata": {},
   "source": [
    "### Compute embeddings using CLIP"
   ]
  },
  {
   "cell_type": "code",
   "execution_count": 8,
   "id": "edcc16c0-0ef1-4e21-bff3-39b6af546fe4",
   "metadata": {},
   "outputs": [],
   "source": [
    "# import model\n",
    "model = CLIPModel.from_pretrained(\"openai/clip-vit-base-patch16\")\n",
    "\n",
    "# import processor (handles text tokenization and image preprocessing)\n",
    "processor = CLIPProcessor.from_pretrained(\"openai/clip-vit-base-patch16\") "
   ]
  },
  {
   "cell_type": "code",
   "execution_count": 9,
   "id": "d5ff2d5f-9d01-42a6-b1a1-ebe9c6a594d3",
   "metadata": {},
   "outputs": [],
   "source": [
    "# pre-process text and images\n",
    "inputs = processor(text=text_list, images=image_list, return_tensors=\"pt\", padding=True)"
   ]
  },
  {
   "cell_type": "code",
   "execution_count": 10,
   "id": "17e25fb1-83d3-4a45-9d0f-0cde281228cb",
   "metadata": {},
   "outputs": [],
   "source": [
    "# compute embeddings with CLIP\n",
    "outputs = model(**inputs)"
   ]
  },
  {
   "cell_type": "code",
   "execution_count": 11,
   "id": "147b2dff-8180-449e-abfe-22fe492c7636",
   "metadata": {},
   "outputs": [],
   "source": [
    "# store embeddings in single torch tensor\n",
    "text_embeddings = outputs.text_embeds\n",
    "image_embeddings = outputs.image_embeds"
   ]
  },
  {
   "cell_type": "code",
   "execution_count": 12,
   "id": "ee24d96b-c0a8-46c4-837a-bbab69a96a2b",
   "metadata": {},
   "outputs": [
    {
     "name": "stdout",
     "output_type": "stream",
     "text": [
      "torch.Size([86, 512])\n",
      "torch.Size([17, 512])\n"
     ]
    }
   ],
   "source": [
    "print(text_embeddings.shape)\n",
    "print(image_embeddings.shape)"
   ]
  },
  {
   "cell_type": "markdown",
   "id": "66db9d6e-4c39-4180-89c7-d8108bee7c9a",
   "metadata": {},
   "source": [
    "### Save Data"
   ]
  },
  {
   "cell_type": "code",
   "execution_count": 13,
   "id": "39af8e14-1909-490e-ba6b-d32170d12711",
   "metadata": {},
   "outputs": [],
   "source": [
    "# save content list as JSON\n",
    "save_to_json(text_content_list, output_file='data/text_content.json')\n",
    "save_to_json(image_content_list, output_file='data/image_content.json')"
   ]
  },
  {
   "cell_type": "code",
   "execution_count": 14,
   "id": "db55fd6e-921c-49a0-9c9c-83d0ac80b88e",
   "metadata": {},
   "outputs": [],
   "source": [
    "# save embeddings to file\n",
    "save(text_embeddings, 'data/text_embeddings.pt')\n",
    "save(image_embeddings, 'data/image_embeddings.pt')"
   ]
  },
  {
   "cell_type": "code",
   "execution_count": null,
   "id": "478be29f",
   "metadata": {},
   "outputs": [],
   "source": []
  }
 ],
 "metadata": {
  "kernelspec": {
   "display_name": "llm",
   "language": "python",
   "name": "python3"
  },
  "language_info": {
   "codemirror_mode": {
    "name": "ipython",
    "version": 3
   },
   "file_extension": ".py",
   "mimetype": "text/x-python",
   "name": "python",
   "nbconvert_exporter": "python",
   "pygments_lexer": "ipython3",
   "version": "3.12.7"
  }
 },
 "nbformat": 4,
 "nbformat_minor": 5
}
